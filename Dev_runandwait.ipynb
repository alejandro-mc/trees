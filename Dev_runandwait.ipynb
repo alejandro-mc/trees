{
 "cells": [
  {
   "cell_type": "code",
   "execution_count": 1,
   "metadata": {
    "collapsed": false
   },
   "outputs": [
    {
     "name": "stdout",
     "output_type": "stream",
     "text": [
      "Run the external process\n",
      "The program finished running\n"
     ]
    }
   ],
   "source": [
    "import os\n",
    "\n",
    "print('Run the external process')\n",
    "os.system(\"python takes-a-while.py\")\n",
    "\n",
    "#read text from the file named syncfile\n",
    "with open('syncfile','r') as f:\n",
    "    print(f.read())\n",
    "\n"
   ]
  },
  {
   "cell_type": "markdown",
   "metadata": {},
   "source": [
    "### Try the same thing using the subprocess module"
   ]
  },
  {
   "cell_type": "code",
   "execution_count": 4,
   "metadata": {
    "collapsed": false
   },
   "outputs": [
    {
     "name": "stdout",
     "output_type": "stream",
     "text": [
      "Run the subprocess\n",
      "True\n",
      "False\n",
      "The program finished running\n"
     ]
    }
   ],
   "source": [
    "import subprocess\n",
    "\n",
    "print('Run the subprocess')\n",
    "print(os.path.isfile('syncfile'))\n",
    "subprocess.run(['rm','syncfile'])\n",
    "print(os.path.isfile('syncfile'))\n",
    "subprocess.run(['python','takes-a-while.py'])\n",
    "\n",
    "with open('syncfile','r') as f:\n",
    "    print(f.read())"
   ]
  },
  {
   "cell_type": "code",
   "execution_count": null,
   "metadata": {
    "collapsed": true
   },
   "outputs": [],
   "source": []
  }
 ],
 "metadata": {
  "kernelspec": {
   "display_name": "Python [conda root]",
   "language": "python",
   "name": "conda-root-py"
  },
  "language_info": {
   "codemirror_mode": {
    "name": "ipython",
    "version": 3
   },
   "file_extension": ".py",
   "mimetype": "text/x-python",
   "name": "python",
   "nbconvert_exporter": "python",
   "pygments_lexer": "ipython3",
   "version": "3.5.2"
  }
 },
 "nbformat": 4,
 "nbformat_minor": 1
}
