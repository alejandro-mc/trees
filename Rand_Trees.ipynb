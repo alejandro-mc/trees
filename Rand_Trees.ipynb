{
 "cells": [
  {
   "cell_type": "code",
   "execution_count": 22,
   "metadata": {
    "collapsed": false
   },
   "outputs": [],
   "source": [
    "import random\n",
    "from math import ceil\n",
    "from math import factorial\n",
    "random.seed()\n",
    "\n",
    "#partitions lst\n",
    "#so that for a in partition[i] and b in partition[j]\n",
    "#i < j ==> a < b\n",
    "#gensizes is a function that takes a list \n",
    "#and returns a list of partition sizes\n",
    "def partition(lst,gensizes):\n",
    "\n",
    "    #create partition sizes\n",
    "    part_sizes = gensizes(lst)\n",
    "    \n",
    "    #create and fill partitions array\n",
    "    items_left = lst\n",
    "    partitions = []\n",
    "    for i in part_sizes:\n",
    "        partitions.append(items_left[0:i])\n",
    "        items_left = items_left[i:]\n",
    "    \n",
    "    return partitions\n",
    "\n",
    "#randPart randomly partitions the list lst into\n",
    "#at least 2 partitions\n",
    "def randPart(lst):\n",
    "    return partition(lst,genRandPartSizes)\n",
    "\n",
    "#genRandPartSizes returns a random list part_sizes, [p1,p2,...,pn]\n",
    "#so that len(partsizes) > 1 and\n",
    "#p1 + p2 + ...+ pn = len(lst)\n",
    "def genRandPartSizes(lst):\n",
    "    #random.seed(1)\n",
    "    #generate partition sizes\n",
    "    n = len(lst)\n",
    "    part_sizes = []\n",
    "    while n > 1:\n",
    "        ps = random.randint(1,n-1)\n",
    "        part_sizes.append(ps)\n",
    "        n -=ps\n",
    "    \n",
    "    #append the size of the last partition if non-zero\n",
    "    if n > 0:\n",
    "        part_sizes.append(n)\n",
    "    \n",
    "    return part_sizes\n",
    "\n",
    "\n",
    "def randBinPart(lst):\n",
    "    n = random.randint(1,len(lst)-1)\n",
    "    return partition(lst,lambda x: [n,len(lst)-n])"
   ]
  },
  {
   "cell_type": "code",
   "execution_count": 2,
   "metadata": {
    "collapsed": true
   },
   "outputs": [],
   "source": [
    "#functions to perform tree rotations\n",
    "def rotateLeft(subtree):\n",
    "    return [[subtree[0],subtree[1][0]],subtree[1][1]] \n",
    "\n",
    "def rotateRight(subtree):\n",
    "    return [subtree[0][0],[subtree[0][1],subtree[1]]]\n",
    "\n",
    "#we would like to perform random rotations\n",
    "#randRotate returns a pair [action,rotated subtree]\n",
    "def randRotate(subtree):\n",
    "    #0 - do nothing, 1 - rotate left, 2 - rotate right\n",
    "    action = random.randint(0,2) \n",
    "    if  action == 1:\n",
    "        #rotate right\n",
    "        #check we can rotate right\n",
    "        if isinstance(subtree[0],list):\n",
    "            return [1,[subtree[0][0],[subtree[0][1],subtree[1]]]]\n",
    "        else:\n",
    "            return [0,subtree]\n",
    "    elif action == 2:\n",
    "        #rotate left\n",
    "        if isinstance(subtree[1],list):\n",
    "            return [2,[[subtree[0],subtree[1][0]],subtree[1][1]]]\n",
    "        else:\n",
    "            return [0,subtree]\n",
    "    else:\n",
    "        return [0,subtree]"
   ]
  },
  {
   "cell_type": "code",
   "execution_count": 3,
   "metadata": {
    "collapsed": true
   },
   "outputs": [],
   "source": [
    "#generates a random tree containing the leaves in the \"leaves\" list \n",
    "#Base case: for input [leaf] ==> leaf whch is the only posible tree\n",
    "#Induction: ranPart yields partitions smaller than n+1\n",
    "#it will produce the tree [genRandTree(p1),...,genRandTree(pn)]\n",
    "#which works by IHOP\n",
    "#Halting: calling randPart will yield partitions of smaller size\n",
    "#eventually reachin the base case\n",
    "def genRandTree(leaves):\n",
    "    if len(leaves) < 2:\n",
    "        return leaves[0]\n",
    "    \n",
    "    subtree=[]\n",
    "    for part in randPart(leaves):\n",
    "        subtree.append(genRandTree(part))\n",
    "    \n",
    "    return subtree"
   ]
  },
  {
   "cell_type": "code",
   "execution_count": 4,
   "metadata": {
    "collapsed": true
   },
   "outputs": [],
   "source": [
    "#generates a binary tree\n",
    "def genRandBinTree(leaves):\n",
    "    if len(leaves) < 2:\n",
    "        return leaves[0]\n",
    "    \n",
    "    subtree=[]\n",
    "    for part in randBinPart(leaves):\n",
    "        subtree.append(genRandBinTree(part))\n",
    "    \n",
    "    return subtree"
   ]
  },
  {
   "cell_type": "code",
   "execution_count": 5,
   "metadata": {
    "collapsed": false
   },
   "outputs": [],
   "source": [
    "#generates a random binary tree in Newick format\n",
    "def randNewickBinSubTree(leaves):\n",
    "    if len(leaves) < 2:\n",
    "        return str(leaves[0]) + \":1\"\n",
    "    \n",
    "    subtree=\"(\"\n",
    "    for part in randBinPart(leaves):\n",
    "        subtree += randNewickBinSubTree(part) + \",\"\n",
    "    \n",
    "    return subtree[0:-1] + \"):1\"\n",
    "\n",
    "def randNewickBinTree(leaves):\n",
    "    \n",
    "    if len(leaves) < 2:\n",
    "        return \"(\" + str(leaves[0]) + \":1\" + \")\"\n",
    "    \n",
    "    tree =\"(\"\n",
    "    for part in randBinPart(leaves):\n",
    "        tree += randNewickBinSubTree(part) + \",\"\n",
    "        \n",
    "    return tree[0:-1] + \")\""
   ]
  },
  {
   "cell_type": "code",
   "execution_count": 6,
   "metadata": {
    "collapsed": true
   },
   "outputs": [],
   "source": [
    "#convert tree to Newick format\n",
    "def toNewickSubTree(tree):\n",
    "    \n",
    "    #case leaf reached\n",
    "    if not isinstance(tree,list):\n",
    "        return str(tree) + \":1\"\n",
    "    \n",
    "    ntree = \"(\"\n",
    "    for subtree in tree:\n",
    "        ntree += toNewickSubTree(subtree) + \",\"\n",
    "    \n",
    "    return ntree[0:-1] + \"):1\"\n",
    "\n",
    "def toNewickTree(tree):\n",
    "    ntree = \"(\"\n",
    "    for subtree in tree:\n",
    "        ntree += toNewickSubTree(subtree) + \",\"\n",
    "    return ntree[0:-1] + \")\""
   ]
  },
  {
   "cell_type": "code",
   "execution_count": 25,
   "metadata": {
    "collapsed": true
   },
   "outputs": [],
   "source": [
    "#compare two trees using variation of AHU algorithm\n",
    "#for every node or leaf at every level\n",
    "#the sorted nodes must be the same\n",
    "def Tree_Signature(tree):\n",
    "    if not isinstance(tree,list):\n",
    "        return str(tree)\n",
    "    \n",
    "    lst_subtrees = []\n",
    "    for subtree in tree:\n",
    "        lst_subtrees.append(Tree_Signature(subtree))\n",
    "    \n",
    "    sorted_subtrees = sorted(lst_subtrees)\n",
    "    return \"[\" + str(sorted_subtrees) + \"]\"\n",
    "\n",
    "\n",
    "#this tree signature is acomplete invariant among equal trees\n",
    "#threfore tree1 = tree2 iff Tree_Signature(tree1) = Tree_Signature(tree2)\n",
    "def treeEq(tree1,tree2):\n",
    "    return Tree_Signature(tree1) == Tree_Signature(tree2)\n",
    "\n",
    "#compte catalan number\n",
    "def catalan(n):\n",
    "    return factorial(2*n) / (factorial(n+1)*factorial(n))"
   ]
  },
  {
   "cell_type": "code",
   "execution_count": 33,
   "metadata": {
    "collapsed": false
   },
   "outputs": [],
   "source": [
    "#write trees to text file\n",
    "#with open('randtrees','w') as file:\n",
    "#    for i in range(0,10):\n",
    "#        file.write(randNewickBinTree(range(0,10)) + \"\\n\")"
   ]
  },
  {
   "cell_type": "code",
   "execution_count": 25,
   "metadata": {
    "collapsed": false
   },
   "outputs": [],
   "source": [
    "#TODO\n",
    "#1 - generate random trees by performing random rotations\n",
    "#2 - read GTP output file\n",
    "#5 - run GTP on the tree sequence file and and get file with\n",
    "#    tree distance and the geodesic"
   ]
  },
  {
   "cell_type": "code",
   "execution_count": 7,
   "metadata": {
    "collapsed": true
   },
   "outputs": [],
   "source": [
    "#create count nodes\n",
    "def countNodes(tree):\n",
    "    if not isinstance(tree,list):\n",
    "        return 0\n",
    "    \n",
    "    return 1 + countNodes(tree[0]) + countNodes(tree[1])"
   ]
  },
  {
   "cell_type": "code",
   "execution_count": 8,
   "metadata": {
    "collapsed": false
   },
   "outputs": [],
   "source": [
    "#perform random SPR move\n",
    "#PRE: tree is a nested list representation of a tree\n",
    "#POST: returns a new tree with a random SPR move\n",
    "#      the resulting tree will have same number of nodes as the\n",
    "#      initial tree\n",
    "__prunedbranch__ = []\n",
    "def randSPR(tree,total_nodes):\n",
    "    global __prunedbranch__\n",
    "    targetNode = random.randint(1,total_nodes)\n",
    "    pruned,n = __prune__(tree,targetNode,0)\n",
    "    \n",
    "    if not isinstance(pruned,list):#if the pruned tree is a leaf return the original tree\n",
    "        return (tree,0) \n",
    "    \n",
    "    targetNode = random.randint(1,total_nodes - countNodes(__prunedbranch__) - 1)\n",
    "    return __regraft__(pruned,targetNode,0)\n",
    "\n",
    "\n",
    "#POST: return a pair of the form (pruned tree, number of visited nodes) and the\n",
    "#      variable __prunedbranch__ contains the subtree removed from tree\n",
    "\n",
    "#Base Cases:\n",
    "#two kinds of base cases\n",
    "# 1 cases where no visited node is counted\n",
    "# like (leaf) or (number of visited nodes== targetNode)\n",
    "#in this case it returns the tree unmodified and the\n",
    "#number of visited nodes is not incremented\n",
    "\n",
    "# 2 occurs when targetNode is visited\n",
    "# saves and removes the pruned branch from the node\n",
    "#other branch is returned so the tree remains complete\n",
    "#and we count this node as visited\n",
    "\n",
    "#the base cases work as we would want\n",
    "\n",
    "#Assume __prune__ works for subtree with 1..k nodes\n",
    "#for a tree having k+1 nodes\n",
    "#__prune__(tree[0],targetNode,visited_nodes + 1)\n",
    "#will return the properly pruned left subtree and the correct number of visited nodes\n",
    "#so __prune__(tree[1],targetNode,visited_nodes1)\n",
    "#will return the properly pruned right subtree and the correct total of visited nodes\n",
    "#then [subtree1,subtree2] will be a properly pruned tree and \n",
    "#visuted_nodes2 will be the total number of visited nodes\n",
    "def __prune__(tree,targetNode,visited_nodes):\n",
    "    global __prunedbranch__\n",
    "    #basecases\n",
    "    \n",
    "    #tree is a leaf\n",
    "    if not isinstance(tree,list):\n",
    "        return (tree,visited_nodes + 0)#no nodes where visited no pruning\n",
    "    \n",
    "    #we don't want to visit any nodes after target node has been reached\n",
    "    if targetNode == visited_nodes:\n",
    "        return (tree,visited_nodes + 0)\n",
    "    \n",
    "    #(not a leaf) or (target not reached) ==> node visited\n",
    "    #therefore we count current node as visited and write visited_nodes+1\n",
    "    \n",
    "    #node to be pruned\n",
    "    if  targetNode == visited_nodes+1:\n",
    "        #save the pruned branch\n",
    "        whichBranch = random.randint(0,1)\n",
    "        __prunedbranch__ = tree[whichBranch]\n",
    "        #return pruned subtree\n",
    "        return (tree[not whichBranch],visited_nodes+1)\n",
    "    \n",
    "\n",
    "    \n",
    "    #recursive step\n",
    "    subtree1, visited_nodes1 = __prune__(tree[0],targetNode,visited_nodes + 1)\n",
    "    subtree2, visited_nodes2 = __prune__(tree[1],targetNode,visited_nodes1)\n",
    "    #visited_nodes2 is the total\n",
    "    return ([subtree1,subtree2],visited_nodes2)\n",
    "\n",
    "\n",
    "#__regraft__ uses the same logic as __prune__ except it performs a different\n",
    "#operation on the target node\n",
    "def __regraft__(tree,targetNode,visited_nodes):\n",
    "    global __prunedbranch__\n",
    "    #basecases\n",
    "    \n",
    "    #tree is a leaf\n",
    "    if not isinstance(tree,list):\n",
    "        return (tree,visited_nodes + 0)#no nodes where visited no pruning\n",
    "    \n",
    "    #we don't want to visit any nodes after target node has been reached\n",
    "    if targetNode == visited_nodes:\n",
    "        return (tree,visited_nodes + 0)\n",
    "    \n",
    "    #(not a leaf) or (target not reached) ==> node visited\n",
    "    #therefore we count current node as visited and write visited_nodes+1\n",
    "    \n",
    "    #attach to edge after targetNode\n",
    "    if  targetNode == visited_nodes+1:\n",
    "        if random.randint(0,1) == 0:\n",
    "            return ([[tree[0],__prunedbranch__],tree[1]],visited_nodes+1)\n",
    "        else:\n",
    "            return ([tree[0],[tree[1],__prunedbranch__]],visited_nodes+1)\n",
    "\n",
    "    \n",
    "    #recursive step\n",
    "    subtree1, visited_nodes1 = __regraft__(tree[0],targetNode,visited_nodes + 1)\n",
    "    subtree2, visited_nodes2 = __regraft__(tree[1],targetNode,visited_nodes1)\n",
    "    #visited_nodes2 is the total\n",
    "    return ([subtree1,subtree2],visited_nodes2)\n",
    "    \n",
    "\n",
    "        "
   ]
  },
  {
   "cell_type": "code",
   "execution_count": 75,
   "metadata": {
    "collapsed": false
   },
   "outputs": [],
   "source": [
    "#write SPR sequence to file\n",
    "rand_tree = genRandBinTree(range(100))\n",
    "total_nodes = countNodes(rand_tree)\n",
    "\n",
    "with open('sprseq','w') as treefile:\n",
    "    treefile.write(toNewickTree(rand_tree) + \"\\n\")\n",
    "    current_tree = rand_tree\n",
    "    for i in range(1000):\n",
    "        current_tree = randSPR(current_tree,total_nodes)[0]\n",
    "        treefile.write(toNewickTree(current_tree) + \"\\n\")"
   ]
  },
  {
   "cell_type": "code",
   "execution_count": 76,
   "metadata": {
    "collapsed": false
   },
   "outputs": [
    {
     "data": {
      "text/plain": [
       "0"
      ]
     },
     "execution_count": 76,
     "metadata": {},
     "output_type": "execute_result"
    }
   ],
   "source": [
    "#run GTP on the file and read the results as csv\n",
    "import os\n",
    "\n",
    "\n",
    "#assumes GTP file is in current working directory\n",
    "os.system(\"java -jar gtp.jar -r 1 -o seqdist.csv sprseq\")\n",
    "\n",
    "\n",
    "\n"
   ]
  },
  {
   "cell_type": "code",
   "execution_count": 77,
   "metadata": {
    "collapsed": false
   },
   "outputs": [
    {
     "data": {
      "image/png": "[encoded data removed]",
      "text/plain": [
       "<matplotlib.figure.Figure at 0x7f4205386748>"
      ]
     },
     "metadata": {},
     "output_type": "display_data"
    }
   ],
   "source": [
    "import csv\n",
    "import numpy as np\n",
    "import matplotlib.pyplot as plt\n",
    "\n",
    "datapoints = []\n",
    "\n",
    "#seqdist.txt will be of the form\n",
    "#src_tree<tab>target_tree<tab>geo_distance\n",
    "with open(\"seqdist.csv\", 'r') as seqfile:\n",
    "    seq_reader = csv.reader(seqfile,delimiter='\\t')\n",
    "\n",
    "    for row in seq_reader:\n",
    "        datapoints.append([int(row[1]),float(row[2])])\n",
    "\n",
    "#convert to numpy array\n",
    "datapoints = np.array(datapoints)\n",
    "\n",
    "plt.scatter(datapoints[:,0],datapoints[:,1])\n",
    "\n",
    "plt.show()"
   ]
  },
  {
   "cell_type": "code",
   "execution_count": 82,
   "metadata": {
    "collapsed": false
   },
   "outputs": [
    {
     "data": {
      "image/png": "[encoded data removed]",
      "text/plain": [
       "<matplotlib.figure.Figure at 0x7f42026682b0>"
      ]
     },
     "metadata": {},
     "output_type": "display_data"
    }
   ],
   "source": [
    "plt.hist(datapoints[:,1],bins=10)\n",
    "plt.show()"
   ]
  },
  {
   "cell_type": "code",
   "execution_count": 33,
   "metadata": {
    "collapsed": false
   },
   "outputs": [],
   "source": [
    "#test that random SPR sequence works\n",
    "#count the number of different tree signatures\n",
    "\n",
    "rand_tree = genRandBinTree([1,2,3,4])\n",
    "total_nodes = countNodes(rand_tree)\n",
    "tree_dict = {}\n",
    "tree_dict[Tree_Signature(rand_tree)]=1\n",
    "\n",
    "current_tree = rand_tree\n",
    "for i in range(100):\n",
    "    current_tree = randSPR(current_tree,total_nodes)[0]\n",
    "    #add to dictionary\n",
    "    signature = Tree_Signature(current_tree)\n",
    "    tree_dict[signature] = tree_dict.get(signature,0) + 1\n",
    "\n"
   ]
  },
  {
   "cell_type": "code",
   "execution_count": 35,
   "metadata": {
    "collapsed": false
   },
   "outputs": [
    {
     "data": {
      "text/plain": [
       "['[[\\'3\\', \\'[[\\\\\\'4\\\\\\', \"[[\\\\\\'1\\\\\\', \\\\\\'2\\\\\\']]\"]]\\']]',\n",
       " '[[\"[[\\'1\\', \\'4\\']]\", \"[[\\'2\\', \\'3\\']]\"]]',\n",
       " '[[\"[[\\'1\\', \\'3\\']]\", \"[[\\'2\\', \\'4\\']]\"]]',\n",
       " '[[\\'1\\', \\'[[\\\\\\'3\\\\\\', \"[[\\\\\\'2\\\\\\', \\\\\\'4\\\\\\']]\"]]\\']]',\n",
       " '[[\\'1\\', \\'[[\\\\\\'4\\\\\\', \"[[\\\\\\'2\\\\\\', \\\\\\'3\\\\\\']]\"]]\\']]',\n",
       " '[[\\'2\\', \\'[[\\\\\\'3\\\\\\', \"[[\\\\\\'1\\\\\\', \\\\\\'4\\\\\\']]\"]]\\']]',\n",
       " '[[\"[[\\'1\\', \\'2\\']]\", \"[[\\'3\\', \\'4\\']]\"]]',\n",
       " '[[\\'3\\', \\'[[\\\\\\'1\\\\\\', \"[[\\\\\\'2\\\\\\', \\\\\\'4\\\\\\']]\"]]\\']]',\n",
       " '[[\\'4\\', \\'[[\\\\\\'3\\\\\\', \"[[\\\\\\'1\\\\\\', \\\\\\'2\\\\\\']]\"]]\\']]',\n",
       " '[[\\'4\\', \\'[[\\\\\\'1\\\\\\', \"[[\\\\\\'2\\\\\\', \\\\\\'3\\\\\\']]\"]]\\']]',\n",
       " '[[\\'3\\', \\'[[\\\\\\'2\\\\\\', \"[[\\\\\\'1\\\\\\', \\\\\\'4\\\\\\']]\"]]\\']]',\n",
       " '[[\\'4\\', \\'[[\\\\\\'2\\\\\\', \"[[\\\\\\'1\\\\\\', \\\\\\'3\\\\\\']]\"]]\\']]',\n",
       " '[[\\'2\\', \\'[[\\\\\\'4\\\\\\', \"[[\\\\\\'1\\\\\\', \\\\\\'3\\\\\\']]\"]]\\']]',\n",
       " '[[\\'2\\', \\'[[\\\\\\'1\\\\\\', \"[[\\\\\\'3\\\\\\', \\\\\\'4\\\\\\']]\"]]\\']]']"
      ]
     },
     "execution_count": 35,
     "metadata": {},
     "output_type": "execute_result"
    }
   ],
   "source": [
    "tree_dict.keys()"
   ]
  },
  {
   "cell_type": "code",
   "execution_count": 7,
   "metadata": {
    "collapsed": false
   },
   "outputs": [
    {
     "name": "stdout",
     "output_type": "stream",
     "text": [
      "running: 0\n",
      "running: 1\n"
     ]
    }
   ],
   "source": [
    "for i in range(2):\n",
    "    print(\"running: \" + str(i))"
   ]
  },
  {
   "cell_type": "code",
   "execution_count": null,
   "metadata": {
    "collapsed": true
   },
   "outputs": [],
   "source": []
  }
 ],
 "metadata": {
  "anaconda-cloud": {},
  "kernelspec": {
   "display_name": "Python 2",
   "language": "python",
   "name": "python2"
  },
  "language_info": {
   "codemirror_mode": {
    "name": "ipython",
    "version": 2
   },
   "file_extension": ".py",
   "mimetype": "text/x-python",
   "name": "python",
   "nbconvert_exporter": "python",
   "pygments_lexer": "ipython2",
   "version": "2.7.11"
  }
 },
 "nbformat": 4,
 "nbformat_minor": 1
}
