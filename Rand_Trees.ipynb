{
 "cells": [
  {
   "cell_type": "code",
   "execution_count": 1,
   "metadata": {
    "collapsed": false
   },
   "outputs": [],
   "source": [
    "import random\n",
    "from math import ceil\n",
    "random.seed()\n",
    "\n",
    "#partitions lst\n",
    "#so that for a in partition[i] and b in partition[j]\n",
    "#i < j ==> a < b\n",
    "#gensizes is a function that takes a list \n",
    "#and returns a list of partition sizes\n",
    "def partition(lst,gensizes):\n",
    "\n",
    "    #create partition sizes\n",
    "    part_sizes = gensizes(lst)\n",
    "    \n",
    "    #create and fill partitions array\n",
    "    items_left = lst\n",
    "    partitions = []\n",
    "    for i in part_sizes:\n",
    "        partitions.append(items_left[0:i])\n",
    "        items_left = items_left[i:]\n",
    "    \n",
    "    return partitions\n",
    "\n",
    "#randPart randomly partitions the list lst into\n",
    "#at least 2 partitions\n",
    "def randPart(lst):\n",
    "    return partition(lst,genRandPartSizes)\n",
    "\n",
    "#genRandPartSizes returns a random list part_sizes, [p1,p2,...,pn]\n",
    "#so that len(partsizes) > 1 and\n",
    "#p1 + p2 + ...+ pn = len(lst)\n",
    "def genRandPartSizes(lst):\n",
    "    #random.seed(1)\n",
    "    #generate partition sizes\n",
    "    n = len(lst)\n",
    "    part_sizes = []\n",
    "    while n > 1:\n",
    "        ps = random.randint(1,n-1)\n",
    "        part_sizes.append(ps)\n",
    "        n -=ps\n",
    "    \n",
    "    #append the size of the last partition if non-zero\n",
    "    if n > 0:\n",
    "        part_sizes.append(n)\n",
    "    \n",
    "    return part_sizes\n",
    "\n",
    "\n",
    "def randBinPart(lst):\n",
    "    n = random.randint(1,len(lst)-1)\n",
    "    return partition(lst,lambda x: [n,len(lst)-n])"
   ]
  },
  {
   "cell_type": "code",
   "execution_count": 14,
   "metadata": {
    "collapsed": true
   },
   "outputs": [],
   "source": [
    "#functions to perform tree rotations\n",
    "def rotateLeft(subtree):\n",
    "    return [[subtree[0],subtree[1][0]],subtree[1][1]] \n",
    "\n",
    "def rotateRight(subtree):\n",
    "    return [subtree[0][0],[subtree[0][1],subtree[1]]]\n",
    "\n",
    "#we would like to perform random rotations\n",
    "#randRotate returns a pair [action,rotated subtree]\n",
    "def randRotate(subtree):\n",
    "    #0 - do nothing, 1 - rotate left, 2 - rotate right\n",
    "    action = random.randint(0,2) \n",
    "    if  action == 1:\n",
    "        #rotate right\n",
    "        #check we can rotate right\n",
    "        if isinstance(subtree[0],list):\n",
    "            return [1,[subtree[0][0],[subtree[0][1],subtree[1]]]]\n",
    "        else:\n",
    "            return [0,subtree]\n",
    "    elif action == 2:\n",
    "        #rotate left\n",
    "        if isinstance(subtree[1],list):\n",
    "            return [2,[[subtree[0],subtree[1][0]],subtree[1][1]]]\n",
    "        else:\n",
    "            return [0,subtree]\n",
    "    else:\n",
    "        return [0,subtree]"
   ]
  },
  {
   "cell_type": "code",
   "execution_count": 32,
   "metadata": {
    "collapsed": true
   },
   "outputs": [],
   "source": [
    "#generates a random tree containing the leaves in the \"leaves\" list \n",
    "#Base case: for input [leaf] ==> leaf whch is the only posible tree\n",
    "#Induction: ranPart yields partitions smaller than n+1\n",
    "#it will produce the tree [genRandTree(p1),...,genRandTree(pn)]\n",
    "#which works by IHOP\n",
    "#Halting: calling randPart will yield partitions of smaller size\n",
    "#eventually reachin the base case\n",
    "def genRandTree(leaves):\n",
    "    if len(leaves) < 2:\n",
    "        return leaves[0]\n",
    "    \n",
    "    subtree=[]\n",
    "    for part in randPart(leaves):\n",
    "        subtree.append(genRandTree(part))\n",
    "    \n",
    "    return subtree"
   ]
  },
  {
   "cell_type": "code",
   "execution_count": 38,
   "metadata": {
    "collapsed": true
   },
   "outputs": [],
   "source": [
    "#generates a binary tree\n",
    "def genRandBinTree(leaves):\n",
    "    if len(leaves) < 2:\n",
    "        return leaves[0]\n",
    "    \n",
    "    subtree=[]\n",
    "    for part in randBinPart(leaves):\n",
    "        subtree.append(genRandBinTree(part))\n",
    "    \n",
    "    return subtree"
   ]
  },
  {
   "cell_type": "code",
   "execution_count": 32,
   "metadata": {
    "collapsed": false
   },
   "outputs": [],
   "source": [
    "#generates a random binary tree in Newick format\n",
    "def randNewickBinSubTree(leaves):\n",
    "    if len(leaves) < 2:\n",
    "        return str(leaves[0]) + \":1\"\n",
    "    \n",
    "    subtree=\"(\"\n",
    "    for part in randBinPart(leaves):\n",
    "        subtree += randNewickBinSubTree(part) + \",\"\n",
    "    \n",
    "    return subtree[0:-1] + \"):1\"\n",
    "\n",
    "def randNewickBinTree(leaves):\n",
    "    \n",
    "    if len(leaves) < 2:\n",
    "        return \"(\" + str(leaves[0]) + \":1\" + \")\"\n",
    "    \n",
    "    tree =\"(\"\n",
    "    for part in randBinPart(leaves):\n",
    "        tree += randNewickBinSubTree(part) + \",\"\n",
    "        \n",
    "    return tree[0:-1] + \")\""
   ]
  },
  {
   "cell_type": "code",
   "execution_count": null,
   "metadata": {
    "collapsed": true
   },
   "outputs": [],
   "source": [
    "#convert tree to Newick format\n",
    "def toNewickTree(tree):\n",
    "    "
   ]
  },
  {
   "cell_type": "code",
   "execution_count": 33,
   "metadata": {
    "collapsed": false
   },
   "outputs": [],
   "source": [
    "#write trees to text file\n",
    "with open('randtrees','w') as file:\n",
    "    for i in range(0,10):\n",
    "        file.write(randNewickBinTree(range(0,10)) + \"\\n\")"
   ]
  },
  {
   "cell_type": "code",
   "execution_count": 25,
   "metadata": {
    "collapsed": false
   },
   "outputs": [],
   "source": [
    "#TODO\n",
    "#1 - generate random trees by performing random rotations\n",
    "#2 - read GTP output file\n",
    "#3 - create list of random trees that are a known distance away from\n",
    "#    the first tree in the list"
   ]
  },
  {
   "cell_type": "code",
   "execution_count": null,
   "metadata": {
    "collapsed": true
   },
   "outputs": [],
   "source": []
  }
 ],
 "metadata": {
  "anaconda-cloud": {},
  "kernelspec": {
   "display_name": "Python [conda root]",
   "language": "python",
   "name": "conda-root-py"
  },
  "language_info": {
   "codemirror_mode": {
    "name": "ipython",
    "version": 3
   },
   "file_extension": ".py",
   "mimetype": "text/x-python",
   "name": "python",
   "nbconvert_exporter": "python",
   "pygments_lexer": "ipython3",
   "version": "3.5.2"
  }
 },
 "nbformat": 4,
 "nbformat_minor": 1
}
