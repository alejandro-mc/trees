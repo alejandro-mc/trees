{
 "cells": [
  {
   "cell_type": "code",
   "execution_count": 6,
   "metadata": {
    "collapsed": false
   },
   "outputs": [],
   "source": [
    "import random\n",
    "from math import ceil\n",
    "random.seed()\n",
    "\n",
    "#partitions lst\n",
    "#so that for a in partition[i] and b in partition[j]\n",
    "#i < j ==> a < b\n",
    "#gensizes is a function that takes a list \n",
    "#and returns a list of partition sizes\n",
    "def partition(lst,gensizes):\n",
    "\n",
    "    #create partition sizes\n",
    "    part_sizes = gensizes(lst)\n",
    "    \n",
    "    #create and fill partitions array\n",
    "    items_left = lst\n",
    "    partitions = []\n",
    "    for i in part_sizes:\n",
    "        partitions.append(items_left[0:i])\n",
    "        items_left = items_left[i:]\n",
    "    \n",
    "    return partitions\n",
    "\n",
    "#randPart randomly partitions the list lst into\n",
    "#at least 2 partitions\n",
    "def randPart(lst):\n",
    "    return partition(lst,genRandPartSizes)\n",
    "\n",
    "#genRandPartSizes returns a random list part_sizes, [p1,p2,...,pn]\n",
    "#so that len(partsizes) > 1 and\n",
    "#p1 + p2 + ...+ pn = len(lst)\n",
    "def genRandPartSizes(lst):\n",
    "    #random.seed(1)\n",
    "    #generate partition sizes\n",
    "    n = len(lst)\n",
    "    part_sizes = []\n",
    "    while n > 1:\n",
    "        ps = random.randint(1,n-1)\n",
    "        part_sizes.append(ps)\n",
    "        n -=ps\n",
    "    \n",
    "    #append the size of the last partition if non-zero\n",
    "    if n > 0:\n",
    "        part_sizes.append(n)\n",
    "    \n",
    "    return part_sizes\n",
    "\n",
    "\n",
    "def randBinPart(lst):\n",
    "    n = random.randint(1,len(lst)-1)\n",
    "    return partition(lst,lambda x: [n,len(lst)-n])"
   ]
  },
  {
   "cell_type": "code",
   "execution_count": 32,
   "metadata": {
    "collapsed": true
   },
   "outputs": [],
   "source": [
    "#generates a random tree containing the leaves in the list leaves\n",
    "#Base case: for input [leaf] ==> leaf whch is the only posible tree\n",
    "#Induction: ranPart yields partitions smaller than n+1 therefore if we assume\n",
    "#Halting: calling randPart will eventually produce a set of lists of size > len(leaves)\n",
    "#therefore len(leaves) will eventually reach the stopping case\n",
    "def genRandTree(leaves):\n",
    "    if len(leaves) < 2:\n",
    "        return leaves[0]\n",
    "    \n",
    "    subtree=[]\n",
    "    for part in randPart(leaves):\n",
    "        subtree.append(genRandTree(part))\n",
    "    \n",
    "    return subtree"
   ]
  },
  {
   "cell_type": "code",
   "execution_count": 38,
   "metadata": {
    "collapsed": true
   },
   "outputs": [],
   "source": [
    "#generates a binary tree\n",
    "def genRandBinTree(leaves):\n",
    "    if len(leaves) < 2:\n",
    "        return leaves[0]\n",
    "    \n",
    "    subtree=[]\n",
    "    for part in randBinPart(leaves):\n",
    "        subtree.append(genRandBinTree(part))\n",
    "    \n",
    "    return subtree"
   ]
  },
  {
   "cell_type": "code",
   "execution_count": 32,
   "metadata": {
    "collapsed": false
   },
   "outputs": [],
   "source": [
    "#generates a random binary tree in Newick format\n",
    "def randNewickBinSubTree(leaves):\n",
    "    if len(leaves) < 2:\n",
    "        return str(leaves[0]) + \":1\"\n",
    "    \n",
    "    subtree=\"(\"\n",
    "    for part in randBinPart(leaves):\n",
    "        subtree += randNewickBinSubTree(part) + \",\"\n",
    "    \n",
    "    return subtree[0:-1] + \"):1\"\n",
    "\n",
    "def randNewickBinTree(leaves):\n",
    "    \n",
    "    if len(leaves) < 2:\n",
    "        return \"(\" + str(leaves[0]) + \":1\" + \")\"\n",
    "    \n",
    "    tree =\"(\"\n",
    "    for part in randBinPart(leaves):\n",
    "        tree += randNewickBinSubTree(part) + \",\"\n",
    "        \n",
    "    return tree[0:-1] + \")\""
   ]
  },
  {
   "cell_type": "code",
   "execution_count": 33,
   "metadata": {
    "collapsed": false
   },
   "outputs": [],
   "source": [
    "#write trees to text file\n",
    "with open('randtrees','w') as file:\n",
    "    for i in range(0,10):\n",
    "        file.write(randNewickBinTree(range(0,10)) + \"\\n\")"
   ]
  },
  {
   "cell_type": "code",
   "execution_count": 180,
   "metadata": {
    "collapsed": false
   },
   "outputs": [],
   "source": [
    "#test partition sizes\n",
    "for i in range(0,10000):\n",
    "    n = 10\n",
    "    part_sizes = []\n",
    "    while n > 1:\n",
    "        ps = random.randint(1,n-1)\n",
    "        part_sizes.append(ps)\n",
    "        n -=ps\n",
    "    if n>0:\n",
    "        part_sizes.append(n)\n",
    "\n",
    "    if len(part_sizes) < 2:\n",
    "        print(part_sizes)\n",
    "        print(\"failed\")\n",
    "        break"
   ]
  },
  {
   "cell_type": "code",
   "execution_count": 49,
   "metadata": {
    "collapsed": false
   },
   "outputs": [
    {
     "data": {
      "text/plain": [
       "[[[0, [1, 2]], [[3, 4], [[5, 6], [7, 8]]]], 9]"
      ]
     },
     "execution_count": 49,
     "metadata": {},
     "output_type": "execute_result"
    }
   ],
   "source": [
    "genRandBinTree(range(0,10))"
   ]
  },
  {
   "cell_type": "code",
   "execution_count": null,
   "metadata": {
    "collapsed": true
   },
   "outputs": [],
   "source": []
  }
 ],
 "metadata": {
  "anaconda-cloud": {},
  "kernelspec": {
   "display_name": "Python [conda root]",
   "language": "python",
   "name": "conda-root-py"
  },
  "language_info": {
   "codemirror_mode": {
    "name": "ipython",
    "version": 3
   },
   "file_extension": ".py",
   "mimetype": "text/x-python",
   "name": "python",
   "nbconvert_exporter": "python",
   "pygments_lexer": "ipython3",
   "version": "3.5.2"
  }
 },
 "nbformat": 4,
 "nbformat_minor": 1
}
