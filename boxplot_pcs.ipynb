{
 "cells": [
  {
   "cell_type": "code",
   "execution_count": 1,
   "metadata": {
    "collapsed": true
   },
   "outputs": [],
   "source": [
    "import matplotlib.pyplot as plt\n",
    "from math import *"
   ]
  },
  {
   "cell_type": "code",
   "execution_count": 59,
   "metadata": {
    "collapsed": false
   },
   "outputs": [],
   "source": [
    "#stats: [[p25,median,p75,miny,maxy] ,... ]\n",
    "def get_boxplot_from_stats(stats):\n",
    "    \n",
    "    #create boxplot instance with len(stats) boxes\n",
    "    boxplot = plt.boxplot([[]]*len(stats))\n",
    "    \n",
    "    box_no = 0\n",
    "    for p25,median,p75,miny,maxy in stats:\n",
    "        \n",
    "        #set caps\n",
    "        boxplot['caps'][2*box_no].set_ydata([miny,miny])#lower\n",
    "        boxplot['caps'][2*box_no + 1].set_ydata([maxy,maxy])#higher\n",
    "        \n",
    "        #set medians\n",
    "        boxplot['medians'][box_no].set_ydata([median,median])\n",
    "        \n",
    "        #set whiskers\n",
    "        boxplot['whiskers'][2*box_no].set_ydata([miny,p25])\n",
    "        boxplot['whiskers'][2*box_no + 1].set_ydata([p75,maxy])\n",
    "        \n",
    "        #set box\n",
    "        boxplot['boxes'][box_no].set_ydata([p25,p25,p75,p75,p25])\n",
    "        \n",
    "        box_no +=1\n",
    "    \n",
    "    return boxplot"
   ]
  },
  {
   "cell_type": "code",
   "execution_count": 49,
   "metadata": {
    "collapsed": false
   },
   "outputs": [
    {
     "name": "stdout",
     "output_type": "stream",
     "text": [
      "{'caps': [<matplotlib.lines.Line2D object at 0x7f60b0e014e0>, <matplotlib.lines.Line2D object at 0x7f60b0e015f8>], 'medians': [<matplotlib.lines.Line2D object at 0x7f60b0e73630>], 'means': [], 'whiskers': [<matplotlib.lines.Line2D object at 0x7f60b1291940>, <matplotlib.lines.Line2D object at 0x7f60b0f44eb8>], 'boxes': [<matplotlib.lines.Line2D object at 0x7f60b0f09240>], 'fliers': [<matplotlib.lines.Line2D object at 0x7f60b0e73710>]}\n"
     ]
    },
    {
     "data": {
      "image/png": "[encoded data removed]",
      "text/plain": [
       "<matplotlib.figure.Figure at 0x7f60b0d42e10>"
      ]
     },
     "metadata": {},
     "output_type": "display_data"
    }
   ],
   "source": [
    "boxplot = plt.boxplot([[]])\n",
    "boxplot['boxes'][0].set_ydata([10,10,20,20,10])\n",
    "#boxplot['whiskers'][1].set_ydata([20,20])\n",
    "print(boxplot)\n",
    "plt.\n",
    "plt.show()"
   ]
  },
  {
   "cell_type": "code",
   "execution_count": 62,
   "metadata": {
    "collapsed": false
   },
   "outputs": [
    {
     "data": {
      "image/png": "[encoded data removed]",
      "text/plain": [
       "<matplotlib.figure.Figure at 0x7f60b11d2940>"
      ]
     },
     "metadata": {},
     "output_type": "display_data"
    }
   ],
   "source": [
    "bxplot = get_boxplot_from_stats([[5,7,8,1,10],[10,12,16,2,30]])\n",
    "plt.axis([0,3,0,40])\n",
    "plt.show()"
   ]
  },
  {
   "cell_type": "code",
   "execution_count": null,
   "metadata": {
    "collapsed": true
   },
   "outputs": [],
   "source": []
  }
 ],
 "metadata": {
  "kernelspec": {
   "display_name": "Python [conda root]",
   "language": "python",
   "name": "conda-root-py"
  },
  "language_info": {
   "codemirror_mode": {
    "name": "ipython",
    "version": 3
   },
   "file_extension": ".py",
   "mimetype": "text/x-python",
   "name": "python",
   "nbconvert_exporter": "python",
   "pygments_lexer": "ipython3",
   "version": "3.5.2"
  }
 },
 "nbformat": 4,
 "nbformat_minor": 1
}
